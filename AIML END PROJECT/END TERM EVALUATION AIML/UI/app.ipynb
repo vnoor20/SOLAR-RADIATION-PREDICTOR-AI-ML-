{
 "cells": [
  {
   "cell_type": "code",
   "execution_count": 1,
   "metadata": {},
   "outputs": [
    {
     "name": "stderr",
     "output_type": "stream",
     "text": [
      "C:\\Users\\Harnoor Kaur\\anaconda3\\Lib\\site-packages\\sklearn\\base.py:376: InconsistentVersionWarning: Trying to unpickle estimator LinearRegression from version 0.22.2.post1 when using version 1.4.2. This might lead to breaking code or invalid results. Use at your own risk. For more info please refer to:\n",
      "https://scikit-learn.org/stable/model_persistence.html#security-maintainability-limitations\n",
      "  warnings.warn(\n"
     ]
    }
   ],
   "source": [
    "import joblib\n",
    "model = joblib.load('SolarRadiationPrediction.pkl')"
   ]
  },
  {
   "cell_type": "markdown",
   "metadata": {},
   "source": [
    "### GUI"
   ]
  },
  {
   "cell_type": "code",
   "execution_count": 2,
   "metadata": {},
   "outputs": [],
   "source": [
    "import tkinter as tk \n",
    "from PIL import Image, ImageTk\n",
    "from matplotlib.backends.backend_tkagg import FigureCanvasTkAgg"
   ]
  },
  {
   "cell_type": "code",
   "execution_count": 3,
   "metadata": {},
   "outputs": [],
   "source": [
    "root= tk.Tk()"
   ]
  },
  {
   "cell_type": "code",
   "execution_count": 4,
   "metadata": {},
   "outputs": [],
   "source": [
    "root.configure(bg='DodgerBlue')"
   ]
  },
  {
   "cell_type": "code",
   "execution_count": 5,
   "metadata": {},
   "outputs": [],
   "source": [
    "canvas1 = tk.Canvas(root, width = 500, height = 300)\n",
    "canvas1.pack()"
   ]
  },
  {
   "cell_type": "code",
   "execution_count": 6,
   "metadata": {},
   "outputs": [
    {
     "data": {
      "text/plain": [
       "2"
      ]
     },
     "execution_count": 6,
     "metadata": {},
     "output_type": "execute_result"
    }
   ],
   "source": [
    "# with sklearn\n",
    "Intercept_result = ('Intercept: ', model.intercept_)\n",
    "label_Intercept = tk.Label(root, text=Intercept_result, justify = 'center')\n",
    "canvas1.create_window(260, 220, window=label_Intercept)\n",
    "\n",
    "# with sklearn\n",
    "Coefficients_result  = ('Coefficients: ', model.coef_)\n",
    "label_Coefficients = tk.Label(root, text=Coefficients_result, justify = 'center')\n",
    "canvas1.create_window(260, 240, window=label_Coefficients)"
   ]
  },
  {
   "cell_type": "code",
   "execution_count": 7,
   "metadata": {},
   "outputs": [
    {
     "data": {
      "text/plain": [
       "6"
      ]
     },
     "execution_count": 7,
     "metadata": {},
     "output_type": "execute_result"
    }
   ],
   "source": [
    "# Temperature label and input box\n",
    "label1 = tk.Label(root, text='Temperature: ', justify = 'left')\n",
    "canvas1.create_window(100, 100, window=label1)\n",
    "\n",
    "entry1 = tk.Entry (root) # 1st entry box\n",
    "canvas1.create_window(300, 100, window=entry1)\n",
    "\n",
    "# Humidity label and input box\n",
    "label2 = tk.Label(root, text='Humidity: ', justify = 'left')\n",
    "canvas1.create_window(100, 120, window=label2)\n",
    "\n",
    "entry2 = tk.Entry (root) # 2nd entry box\n",
    "canvas1.create_window(300, 120, window=entry2)"
   ]
  },
  {
   "cell_type": "code",
   "execution_count": 8,
   "metadata": {},
   "outputs": [
    {
     "data": {
      "text/plain": [
       "10"
      ]
     },
     "execution_count": 8,
     "metadata": {},
     "output_type": "execute_result"
    }
   ],
   "source": [
    "# Wind direction label and input box\n",
    "label3 = tk.Label(root, text='Wind direction(degrees): ', justify = 'left')\n",
    "canvas1.create_window(100, 140, window=label3)\n",
    "\n",
    "entry3 = tk.Entry (root) # 3rd entry box\n",
    "canvas1.create_window(300, 140, window=entry3)\n",
    "\n",
    "# Speed label and input box\n",
    "label4 = tk.Label(root, text='Speed: ', justify = 'left')\n",
    "canvas1.create_window(100, 160, window=label4)\n",
    "\n",
    "entry4 = tk.Entry (root) # 4th entry box\n",
    "canvas1.create_window(300, 160, window=entry4)"
   ]
  },
  {
   "cell_type": "code",
   "execution_count": 9,
   "metadata": {},
   "outputs": [],
   "source": [
    "def values(): \n",
    "    global temp # our 1st input variable\n",
    "    temp = float(entry1.get()) \n",
    "    \n",
    "    global humidity # our 2nd input variable\n",
    "    humidity = float(entry2.get()) \n",
    "\n",
    "    global winddir # our 3rd input variable\n",
    "    windir = float(entry3.get())\n",
    "\n",
    "    global speed # our 4th input variable\n",
    "    speed = float(entry4.get())\n",
    "    \n",
    "    Prediction_result  = ('Predicted Solar Radiation: ', model.predict([[temp, humidity, windir, speed]]))\n",
    "    label_Prediction = tk.Label(root, text= Prediction_result, bg='red')\n",
    "    canvas1.create_window(260, 280, window=label_Prediction)"
   ]
  },
  {
   "cell_type": "code",
   "execution_count": 10,
   "metadata": {},
   "outputs": [
    {
     "data": {
      "text/plain": [
       "11"
      ]
     },
     "execution_count": 10,
     "metadata": {},
     "output_type": "execute_result"
    }
   ],
   "source": [
    "button1 = tk.Button (root, text='Predict Solar Radiation',command=values, bg='red') # button to call the 'values' command above \n",
    "canvas1.create_window(230, 200, window=button1)"
   ]
  },
  {
   "cell_type": "code",
   "execution_count": null,
   "metadata": {},
   "outputs": [],
   "source": [
    "root.mainloop()"
   ]
  },
  {
   "cell_type": "markdown",
   "metadata": {},
   "source": [
    "### You'll get a UI like this once you run the complete code:"
   ]
  },
  {
   "cell_type": "code",
   "execution_count": null,
   "metadata": {},
   "outputs": [],
   "source": []
  }
 ],
 "metadata": {
  "kernelspec": {
   "display_name": "Python 3 (ipykernel)",
   "language": "python",
   "name": "python3"
  },
  "language_info": {
   "codemirror_mode": {
    "name": "ipython",
    "version": 3
   },
   "file_extension": ".py",
   "mimetype": "text/x-python",
   "name": "python",
   "nbconvert_exporter": "python",
   "pygments_lexer": "ipython3",
   "version": "3.11.5"
  }
 },
 "nbformat": 4,
 "nbformat_minor": 4
}
